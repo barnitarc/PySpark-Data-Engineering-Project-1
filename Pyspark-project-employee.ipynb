{
 "cells": [
  {
   "cell_type": "code",
   "execution_count": 1,
   "metadata": {},
   "outputs": [],
   "source": [
    "from pyspark import SparkConf,SparkContext\n",
    "from pyspark.sql import SparkSession\n",
    "from pyspark.sql.functions import *\n",
    "from pyspark.sql.window import Window"
   ]
  },
  {
   "cell_type": "code",
   "execution_count": 2,
   "metadata": {},
   "outputs": [],
   "source": [
    "spark=SparkSession.builder.getOrCreate()"
   ]
  },
  {
   "cell_type": "code",
   "execution_count": 3,
   "metadata": {},
   "outputs": [],
   "source": [
    "employee=spark.read.csv('D:\\Python for Data Engineering Project\\Jupyter Notebook\\Employee Dataset\\employee_data.csv',header=True,inferSchema=True)"
   ]
  },
  {
   "cell_type": "code",
   "execution_count": 4,
   "metadata": {},
   "outputs": [
    {
     "name": "stdout",
     "output_type": "stream",
     "text": [
      "+-----+---------+--------+---------+--------+--------------------+---------------+--------------------+------------+--------------+------------+-------+--------------------------+---------------+----------------------+-----------------+--------------------+----------+-----+----------------------+----------+------------+--------+-----------+-----------------+-----------------------+\n",
      "|EmpID|FirstName|LastName|StartDate|ExitDate|               Title|     Supervisor|             ADEmail|BusinessUnit|EmployeeStatus|EmployeeType|PayZone|EmployeeClassificationType|TerminationType|TerminationDescription|   DepartmentType|            Division|       DOB|State|JobFunctionDescription|GenderCode|LocationCode|RaceDesc|MaritalDesc|Performance Score|Current Employee Rating|\n",
      "+-----+---------+--------+---------+--------+--------------------+---------------+--------------------+------------+--------------+------------+-------+--------------------------+---------------+----------------------+-----------------+--------------------+----------+-----+----------------------+----------+------------+--------+-----------+-----------------+-----------------------+\n",
      "| 3427|    Uriah| Bridges|20-Sep-19|    NULL|Production Techni...|   Peter Oneill|uriah.bridges@bil...|        CCDR|        Active|    Contract| Zone C|                 Temporary|            Unk|                  NULL|Production       |Finance & Accounting|07-10-1969|   MA|            Accounting|    Female|       34904|   White|    Widowed|      Fully Meets|                      4|\n",
      "| 3428|    Paula|   Small|11-Feb-23|    NULL|Production Techni...|Renee Mccormick|paula.small@bilea...|          EW|        Active|    Contract| Zone A|                 Part-Time|            Unk|                  NULL|Production       |              Aerial|30-08-1965|   MA|                 Labor|      Male|        6593|Hispanic|    Widowed|      Fully Meets|                      3|\n",
      "| 3429|   Edward|    Buck|10-Dec-18|    NULL|  Area Sales Manager| Crystal Walker|edward.buck@bilea...|          PL|        Active|   Full-Time| Zone B|                 Part-Time|            Unk|                  NULL|            Sales|       General - Sga|06-10-1991|   MA|             Assistant|      Male|        2330|Hispanic|    Widowed|      Fully Meets|                      4|\n",
      "| 3430|  Michael| Riordan|21-Jun-21|    NULL|  Area Sales Manager| Rebekah Wright|michael.riordan@b...|        CCDR|        Active|    Contract| Zone A|                 Full-Time|            Unk|                  NULL|            Sales|Finance & Accounting|04-04-1998|   ND|                 Clerk|      Male|       58782|   Other|     Single|      Fully Meets|                      2|\n",
      "| 3431|  Jasmine|   Onque|29-Jun-19|    NULL|  Area Sales Manager|      Jason Kim|jasmine.onque@bil...|         TNS|        Active|    Contract| Zone A|                 Temporary|            Unk|                  NULL|            Sales|       General - Con|29-08-1969|   FL|               Laborer|    Female|       33174|   Other|    Married|      Fully Meets|                      3|\n",
      "+-----+---------+--------+---------+--------+--------------------+---------------+--------------------+------------+--------------+------------+-------+--------------------------+---------------+----------------------+-----------------+--------------------+----------+-----+----------------------+----------+------------+--------+-----------+-----------------+-----------------------+\n",
      "only showing top 5 rows\n",
      "\n"
     ]
    }
   ],
   "source": [
    "employee.show(5)"
   ]
  },
  {
   "cell_type": "code",
   "execution_count": 5,
   "metadata": {},
   "outputs": [
    {
     "name": "stdout",
     "output_type": "stream",
     "text": [
      "root\n",
      " |-- EmpID: integer (nullable = true)\n",
      " |-- FirstName: string (nullable = true)\n",
      " |-- LastName: string (nullable = true)\n",
      " |-- StartDate: string (nullable = true)\n",
      " |-- ExitDate: string (nullable = true)\n",
      " |-- Title: string (nullable = true)\n",
      " |-- Supervisor: string (nullable = true)\n",
      " |-- ADEmail: string (nullable = true)\n",
      " |-- BusinessUnit: string (nullable = true)\n",
      " |-- EmployeeStatus: string (nullable = true)\n",
      " |-- EmployeeType: string (nullable = true)\n",
      " |-- PayZone: string (nullable = true)\n",
      " |-- EmployeeClassificationType: string (nullable = true)\n",
      " |-- TerminationType: string (nullable = true)\n",
      " |-- TerminationDescription: string (nullable = true)\n",
      " |-- DepartmentType: string (nullable = true)\n",
      " |-- Division: string (nullable = true)\n",
      " |-- DOB: string (nullable = true)\n",
      " |-- State: string (nullable = true)\n",
      " |-- JobFunctionDescription: string (nullable = true)\n",
      " |-- GenderCode: string (nullable = true)\n",
      " |-- LocationCode: integer (nullable = true)\n",
      " |-- RaceDesc: string (nullable = true)\n",
      " |-- MaritalDesc: string (nullable = true)\n",
      " |-- Performance Score: string (nullable = true)\n",
      " |-- Current Employee Rating: integer (nullable = true)\n",
      "\n"
     ]
    }
   ],
   "source": [
    "employee.printSchema()"
   ]
  },
  {
   "cell_type": "code",
   "execution_count": 6,
   "metadata": {},
   "outputs": [],
   "source": [
    "employee=employee.withColumn('StartDate',to_date('StartDate','dd-MMM-yy'))\\\n",
    "    .withColumn('ExitDate',to_date('ExitDate','dd-MMM-yy'))\\\n",
    "    .withColumn('DOB',to_date('DOB','dd-MM-yyyy'))"
   ]
  },
  {
   "cell_type": "code",
   "execution_count": 7,
   "metadata": {},
   "outputs": [
    {
     "name": "stdout",
     "output_type": "stream",
     "text": [
      "+-----+---------+--------+----------+----------+--------------------+----------------+--------------------+------------+--------------------+------------+-------+--------------------------+---------------+----------------------+-----------------+----------------+----------+-----+----------------------+----------+------------+--------+-----------+-----------------+-----------------------+\n",
      "|EmpID|FirstName|LastName| StartDate|  ExitDate|               Title|      Supervisor|             ADEmail|BusinessUnit|      EmployeeStatus|EmployeeType|PayZone|EmployeeClassificationType|TerminationType|TerminationDescription|   DepartmentType|        Division|       DOB|State|JobFunctionDescription|GenderCode|LocationCode|RaceDesc|MaritalDesc|Performance Score|Current Employee Rating|\n",
      "+-----+---------+--------+----------+----------+--------------------+----------------+--------------------+------------+--------------------+------------+-------+--------------------------+---------------+----------------------+-----------------+----------------+----------+-----+----------------------+----------+------------+--------+-----------+-----------------+-----------------------+\n",
      "| 3431|  Jasmine|   Onque|2019-06-29|      NULL|  Area Sales Manager|       Jason Kim|jasmine.onque@bil...|         TNS|              Active|    Contract| Zone A|                 Temporary|            Unk|                  NULL|            Sales|   General - Con|1969-08-29|   FL|               Laborer|    Female|       33174|   Other|    Married|      Fully Meets|                      3|\n",
      "| 3613|   Amirah| Johnson|2019-02-24|      NULL|Production Techni...|     Jason Owens|amirah.johnson@bi...|          PL|              Active|    Contract| Zone B|                 Part-Time|            Unk|                  NULL|Production       |Field Operations|1973-06-14|   MA|               Laborer|      Male|        9241|   Asian|    Married|          Exceeds|                      1|\n",
      "| 3650|   Amirah| Stanley|2019-10-03|2022-02-28|Production Techni...|   Jason Jenkins|amirah.stanley@bi...|         PYZ|Voluntarily Termi...|   Full-Time| Zone B|                 Part-Time|     Retirement|  Late least forwar...|Production       |Field Operations|1991-12-25|   MA|               Laborer|    Female|       72818|   White|   Divorced|      Fully Meets|                      3|\n",
      "| 3803|      Kai|    Holt|2021-02-10|2022-01-01|Production Techni...|     Jason Haley|kai.holt@bilearne...|          PL|        Future Start|    Contract| Zone B|                 Full-Time|    Resignation|  Cup arm drug plac...|Production       |Field Operations|1985-05-12|   MA|            Tower Hand|    Female|       35618|   Black|     Single|      Fully Meets|                      3|\n",
      "| 3808|    Maria|Gonzalez|2019-04-27|2020-03-20|          IT Support|    Jason Miller|maria.gonzalez@bi...|         PYZ|              Active|    Contract| Zone B|                 Full-Time|    Resignation|  Address control d...|            IT/IS|   General - Sga|1948-01-16|   MA|         Administrator|    Female|        2472|   White|    Widowed|      Fully Meets|                      3|\n",
      "| 3839|   Dereon|    Page|2021-10-11|      NULL|Sr. Network Engineer|Jason Morris DVM|dereon.page@bilea...|          PL|              Active|    Contract| Zone B|                 Part-Time|            Unk|                  NULL|            IT/IS|   General - Con|2000-09-27|   MA|               Lineman|      Male|       94433|Hispanic|   Divorced|              PIP|                      3|\n",
      "| 3855|    Brady|   Yoder|2021-05-25|2022-08-13|    Network Engineer|     Jason Patel|brady.yoder@bilea...|         WBL|              Active|   Part-Time| Zone B|                 Part-Time|     Retirement|  Case try necessar...| Executive Office| People Services|1999-10-01|   MA|            Accountant|      Male|       77314|   Other|    Widowed|      Fully Meets|                      3|\n",
      "| 3973| Brooklyn|  Tanner|2018-09-21|2023-06-22|Database Administ...|      Jason Sims|brooklyn.tanner@b...|         WBL|Terminated for Cause|   Part-Time| Zone C|                 Temporary|    Resignation|  Professor now aud...|            IT/IS|Field Operations|1973-05-22|   TX|               Laborer|    Female|       50856|Hispanic|     Single|          Exceeds|                      3|\n",
      "| 3989|      Asa|    Pham|2022-07-11|      NULL|             Sr. DBA| Mr. Jason Brock|asa.pham@bilearne...|         TNS|              Active|   Full-Time| Zone C|                 Part-Time|            Unk|                  NULL|            IT/IS|   General - Con|1952-06-18|   MA|               Foreman|    Female|       43953|   Asian|    Widowed|      Fully Meets|                      3|\n",
      "| 1780|   Colton|  Booker|2022-12-10|2023-02-11|Production Techni...|    Jason Taylor|colton.booker@bil...|         BPC|              Active|    Contract| Zone C|                 Temporary|     Retirement|  Half nice continu...|Production       |Field Operations|1993-07-11|   MA|              Engineer|    Female|       17208|Hispanic|    Widowed|      Fully Meets|                      3|\n",
      "| 1925|   Jerome| Fischer|2023-04-29|2023-07-07|Production Techni...|     Jason Kelly|jerome.fischer@bi...|        CCDR|              Active|    Contract| Zone B|                 Full-Time|      Voluntary|  Gun better when. ...|Production       |        Splicing|1980-02-13|   MA|               Laborer|      Male|       91520|   Other|   Divorced|      Fully Meets|                      3|\n",
      "| 2012|  Darnell|   Eaton|2020-01-24|2022-09-14|Production Techni...|   Jason Kennedy|darnell.eaton@bil...|         MSC|              Active|    Contract| Zone B|                 Full-Time|      Voluntary|  Billion turn acco...|Production       |   General - Sga|1984-06-06|   MA|                    Vp|    Female|       44651|   White|     Single|      Fully Meets|                      3|\n",
      "| 2025|   Shamar|  Herman|2021-01-29|2023-02-12|Production Techni...|   Jason Johnson|shamar.herman@bil...|         MSC|              Active|   Part-Time| Zone C|                 Temporary|    Resignation|  Form prepare beat...|Production       |Field Operations|1975-04-11|   MA|               Laborer|    Female|       90678|   Asian|     Single|      Fully Meets|                      3|\n",
      "| 2205|      Gia|  Franco|2022-04-13|2023-07-30|Production Techni...|      Jason Boyd|gia.franco@bilear...|         BPC|              Active|   Full-Time| Zone B|                 Full-Time|    Involuntary|  Article machine r...|Production       |   General - Sga|1944-01-13|   MA|         Administrator|    Female|       32235|   Black|   Divorced|Needs Improvement|                      4|\n",
      "| 2223|     Isla| Hawkins|2020-07-04|      NULL|IT Manager - Support|     Jason Smith|isla.hawkins@bile...|         BPC|              Active|   Full-Time| Zone C|                 Temporary|            Unk|                  NULL|            IT/IS|       Executive|1942-02-18|   MA|                    Vp|    Female|       43748|   Asian|    Widowed|          Exceeds|                      2|\n",
      "| 2607|   Lamont| Summers|2019-03-29|      NULL|  Area Sales Manager|    Jason Reeves|lamont.summers@bi...|         SVG|              Active|    Contract| Zone B|                 Part-Time|            Unk|                  NULL|            Sales|        Fielders|1976-10-14|   AL|              Engineer|      Male|       89972|   White|    Married|      Fully Meets|                      2|\n",
      "| 2636|Gwendolyn|   Hogan|2018-09-13|2020-11-04|  Area Sales Manager|     Jason Hayes|gwendolyn.hogan@b...|         PYZ|              Active|   Full-Time| Zone B|                 Temporary|    Resignation|  Almost across fly...|            Sales|   General - Eng|1970-11-20|   MA|            Technician|      Male|       12113|   Asian|    Married|      Fully Meets|                      5|\n",
      "| 2995|   Ronnie|    Haas|2018-09-03|2018-11-29|Production Techni...|     Jason Huber|ronnie.haas@bilea...|        CCDR|              Active|   Full-Time| Zone A|                 Full-Time|    Resignation|  Training party upon.|Production       |   General - Con|1954-10-17|   MA|            Technician|      Male|       43823|   Other|     Single|Needs Improvement|                      4|\n",
      "| 3333|     Yael|  Sexton|2023-05-16|      NULL|Production Techni...|     Jason Brady|yael.sexton@bilea...|          EW|              Active|    Contract| Zone B|                 Temporary|            Unk|                  NULL|Production       |Field Operations|1992-10-29|   MA|        Administrative|      Male|       45740|Hispanic|     Single|      Fully Meets|                      3|\n",
      "+-----+---------+--------+----------+----------+--------------------+----------------+--------------------+------------+--------------------+------------+-------+--------------------------+---------------+----------------------+-----------------+----------------+----------+-----+----------------------+----------+------------+--------+-----------+-----------------+-----------------------+\n",
      "\n"
     ]
    }
   ],
   "source": [
    "employee.filter(contains(employee.Supervisor,lit('Jason'))).show()"
   ]
  },
  {
   "cell_type": "code",
   "execution_count": 8,
   "metadata": {},
   "outputs": [
    {
     "data": {
      "text/plain": [
       "1533"
      ]
     },
     "execution_count": 8,
     "metadata": {},
     "output_type": "execute_result"
    }
   ],
   "source": [
    "\n",
    "employee.where(employee.ExitDate.isNotNull()).count()"
   ]
  },
  {
   "cell_type": "code",
   "execution_count": 9,
   "metadata": {},
   "outputs": [
    {
     "data": {
      "text/plain": [
       "1467"
      ]
     },
     "execution_count": 9,
     "metadata": {},
     "output_type": "execute_result"
    }
   ],
   "source": [
    "employee.where(employee.ExitDate.isNull()).count()"
   ]
  },
  {
   "cell_type": "code",
   "execution_count": 10,
   "metadata": {},
   "outputs": [
    {
     "name": "stdout",
     "output_type": "stream",
     "text": [
      "+----------------------------+\n",
      "|Title                       |\n",
      "+----------------------------+\n",
      "|Senior BI Developer         |\n",
      "|IT Manager - Support        |\n",
      "|Software Engineering Manager|\n",
      "|Network Engineer            |\n",
      "|Principal Data Architect    |\n",
      "|Sr. DBA                     |\n",
      "|BI Developer                |\n",
      "|Production Technician II    |\n",
      "|Director of Operations      |\n",
      "|Production Manager          |\n",
      "|Sr. Accountant              |\n",
      "|President & CEO             |\n",
      "|Sr. Network Engineer        |\n",
      "|IT Manager - Infra          |\n",
      "|Accountant I                |\n",
      "|Database Administrator      |\n",
      "|Data Analyst                |\n",
      "|Shared Services Manager     |\n",
      "|Director of Sales           |\n",
      "|Sales Manager               |\n",
      "+----------------------------+\n",
      "only showing top 20 rows\n",
      "\n"
     ]
    }
   ],
   "source": [
    "employee.dropDuplicates(['Title']).select('Title').show(truncate=False)"
   ]
  },
  {
   "cell_type": "code",
   "execution_count": 11,
   "metadata": {},
   "outputs": [
    {
     "name": "stdout",
     "output_type": "stream",
     "text": [
      "+------------+\n",
      "|BusinessUnit|\n",
      "+------------+\n",
      "|          PL|\n",
      "|         MSC|\n",
      "|         PYZ|\n",
      "|         WBL|\n",
      "|         SVG|\n",
      "|         BPC|\n",
      "|          EW|\n",
      "|         NEL|\n",
      "|         TNS|\n",
      "|        CCDR|\n",
      "+------------+\n",
      "\n"
     ]
    }
   ],
   "source": [
    "employee.dropDuplicates(['BusinessUnit']).select('BusinessUnit').show(100)"
   ]
  },
  {
   "cell_type": "code",
   "execution_count": 12,
   "metadata": {},
   "outputs": [
    {
     "name": "stdout",
     "output_type": "stream",
     "text": [
      "+----------------------+\n",
      "|EmployeeStatus        |\n",
      "+----------------------+\n",
      "|Future Start          |\n",
      "|Terminated for Cause  |\n",
      "|Active                |\n",
      "|Leave of Absence      |\n",
      "|Voluntarily Terminated|\n",
      "+----------------------+\n",
      "\n"
     ]
    }
   ],
   "source": [
    "employee.dropDuplicates(['EmployeeStatus']).select('EmployeeStatus').show(truncate=False)"
   ]
  },
  {
   "cell_type": "code",
   "execution_count": 13,
   "metadata": {},
   "outputs": [
    {
     "name": "stdout",
     "output_type": "stream",
     "text": [
      "+------------+\n",
      "|EmployeeType|\n",
      "+------------+\n",
      "|Contract    |\n",
      "|Full-Time   |\n",
      "|Part-Time   |\n",
      "+------------+\n",
      "\n"
     ]
    }
   ],
   "source": [
    "employee.dropDuplicates(['EmployeeType']).select('EmployeeType').show(truncate=False)"
   ]
  },
  {
   "cell_type": "code",
   "execution_count": 14,
   "metadata": {},
   "outputs": [
    {
     "name": "stdout",
     "output_type": "stream",
     "text": [
      "+--------------------+\n",
      "|DepartmentType      |\n",
      "+--------------------+\n",
      "|Sales               |\n",
      "|Production          |\n",
      "|Admin Offices       |\n",
      "|Executive Office    |\n",
      "|Software Engineering|\n",
      "|IT/IS               |\n",
      "+--------------------+\n",
      "\n"
     ]
    }
   ],
   "source": [
    "employee.dropDuplicates(['DepartmentType']).select('DepartmentType').show(truncate=False)"
   ]
  },
  {
   "cell_type": "code",
   "execution_count": 15,
   "metadata": {},
   "outputs": [],
   "source": [
    "employee=employee.withColumn('DepartmentType',trim(employee.DepartmentType))"
   ]
  },
  {
   "cell_type": "code",
   "execution_count": 16,
   "metadata": {},
   "outputs": [
    {
     "name": "stdout",
     "output_type": "stream",
     "text": [
      "+-----+---------+--------+----------+----------+-------------+------------+--------------------+------------+--------------------+------------+-------+--------------------------+---------------+----------------------+--------------+-------------+----------+-----+----------------------+----------+------------+--------+-----------+-----------------+-----------------------+\n",
      "|EmpID|FirstName|LastName| StartDate|  ExitDate|        Title|  Supervisor|             ADEmail|BusinessUnit|      EmployeeStatus|EmployeeType|PayZone|EmployeeClassificationType|TerminationType|TerminationDescription|DepartmentType|     Division|       DOB|State|JobFunctionDescription|GenderCode|LocationCode|RaceDesc|MaritalDesc|Performance Score|Current Employee Rating|\n",
      "+-----+---------+--------+----------+----------+-------------+------------+--------------------+------------+--------------------+------------+-------+--------------------------+---------------+----------------------+--------------+-------------+----------+-----+----------------------+----------+------------+--------+-----------+-----------------+-----------------------+\n",
      "| 3943|    Jason|  Salter|2019-07-27|2021-07-25|Data Analyst |Lauren Moore|jason.salter@bile...|         NEL|Voluntarily Termi...|   Part-Time| Zone A|                 Part-Time|    Resignation|  Choose system pic...|         IT/IS|General - Eng|1971-08-04|   MA|        Administrative|      Male|        2452|   Black|     Single|      Fully Meets|                      3|\n",
      "+-----+---------+--------+----------+----------+-------------+------------+--------------------+------------+--------------------+------------+-------+--------------------------+---------------+----------------------+--------------+-------------+----------+-----+----------------------+----------+------------+--------+-----------+-----------------+-----------------------+\n",
      "\n"
     ]
    }
   ],
   "source": [
    "employee.filter((employee.FirstName=='Jason') &(employee.LastName.like('%a%'))).show()"
   ]
  },
  {
   "cell_type": "markdown",
   "metadata": {},
   "source": [
    "## Find highest rated employee in every department in each zone"
   ]
  },
  {
   "cell_type": "code",
   "execution_count": 17,
   "metadata": {},
   "outputs": [
    {
     "name": "stdout",
     "output_type": "stream",
     "text": [
      "+-----+----------+--------+-------+--------------------+-----------------------+\n",
      "|EmpID| FirstName|LastName|PayZone|      DepartmentType|Current Employee Rating|\n",
      "+-----+----------+--------+-------+--------------------+-----------------------+\n",
      "| 2461|    Tucker|    Haas| Zone A|       Admin Offices|                      5|\n",
      "| 3823|Alexzander|    Pope| Zone A|    Executive Office|                      3|\n",
      "| 2213|   Branden|    Khan| Zone A|               IT/IS|                      5|\n",
      "| 3572|   Timothy|Sullivan| Zone A|          Production|                      5|\n",
      "| 3496|     Aspen| Bentley| Zone A|               Sales|                      5|\n",
      "| 2550|   Beckett|    Beck| Zone A|Software Engineering|                      5|\n",
      "| 2283|      Sean|   Quinn| Zone B|       Admin Offices|                      4|\n",
      "| 3822|   Katrina| Lambert| Zone B|    Executive Office|                      3|\n",
      "| 2208|      Lisa|   Galia| Zone B|               IT/IS|                      5|\n",
      "| 3591|  Abdullah| Ellison| Zone B|          Production|                      5|\n",
      "| 3436|    Joseph| Martins| Zone B|               Sales|                      5|\n",
      "| 2552|     Jalen|Jennings| Zone B|Software Engineering|                      5|\n",
      "| 1045|   Elliott|  Ashley| Zone C|       Admin Offices|                      3|\n",
      "| 3834|   Monique|  Pierce| Zone C|    Executive Office|                      3|\n",
      "| 2209|      Rick| Clayton| Zone C|               IT/IS|                      5|\n",
      "| 3561|    Dianna|  Blount| Zone C|          Production|                      5|\n",
      "| 3485|    Jaiden| Johnson| Zone C|               Sales|                      5|\n",
      "| 2493|    Connor|Carrillo| Zone C|Software Engineering|                      4|\n",
      "+-----+----------+--------+-------+--------------------+-----------------------+\n",
      "\n"
     ]
    }
   ],
   "source": [
    "df=employee.withColumn('rownum',row_number().over(Window.partitionBy('PayZone','DepartmentType').orderBy(desc('Current Employee Rating'))))\n",
    "df.filter(df.rownum==1).select('EmpID','FirstName','LastName','PayZone','DepartmentType','Current Employee Rating').show()"
   ]
  },
  {
   "cell_type": "markdown",
   "metadata": {},
   "source": [
    "## Find how many active employees are in each business unit\n"
   ]
  },
  {
   "cell_type": "code",
   "execution_count": 18,
   "metadata": {},
   "outputs": [
    {
     "name": "stdout",
     "output_type": "stream",
     "text": [
      "+------------+------------------+\n",
      "|BusinessUnit|count od employees|\n",
      "+------------+------------------+\n",
      "|          PL|               246|\n",
      "|         MSC|               239|\n",
      "|         PYZ|               250|\n",
      "|         WBL|               252|\n",
      "|         SVG|               246|\n",
      "|         BPC|               243|\n",
      "|          EW|               245|\n",
      "|         NEL|               246|\n",
      "|         TNS|               242|\n",
      "|        CCDR|               249|\n",
      "+------------+------------------+\n",
      "\n"
     ]
    }
   ],
   "source": [
    "employee.filter(employee.EmployeeStatus.like('Active%')).groupBy('BusinessUnit').agg(count(\"*\").alias('count od employees')).show()"
   ]
  },
  {
   "cell_type": "code",
   "execution_count": 22,
   "metadata": {},
   "outputs": [],
   "source": [
    "training=spark.read.csv('D:/Python for Data Engineering Project/Jupyter Notebook/Employee Dataset/training_and_development_data.csv',header=True,inferSchema=True)"
   ]
  },
  {
   "cell_type": "code",
   "execution_count": 25,
   "metadata": {},
   "outputs": [
    {
     "name": "stdout",
     "output_type": "stream",
     "text": [
      "+-----------+-------------+---------------------+-------------+----------------+-----------------+-----------------+-----------------------+-------------+\n",
      "|Employee ID|Training Date|Training Program Name|Training Type|Training Outcome|         Location|          Trainer|Training Duration(Days)|Training Cost|\n",
      "+-----------+-------------+---------------------+-------------+----------------+-----------------+-----------------+-----------------------+-------------+\n",
      "|       1001|   2022-09-21|     Customer Service|     Internal|          Failed|        Port Greg|   Amanda Daniels|                      4|       510.83|\n",
      "|       1002|   2023-07-19| Leadership Develo...|     Internal|          Failed|      Brandonview|Brittany Chambers|                      2|       582.37|\n",
      "|       1003|   2023-02-24|     Technical Skills|     Internal|      Incomplete|Port Briannahaven|    Mark Roberson|                      4|       777.06|\n",
      "|       1004|   2023-01-12|     Customer Service|     Internal|       Completed|    Knightborough|   Richard Fisher|                      2|        824.3|\n",
      "|       1005|   2023-05-12| Communication Skills|     External|          Passed|       Bruceshire|  Heather Shaffer|                      4|       145.99|\n",
      "+-----------+-------------+---------------------+-------------+----------------+-----------------+-----------------+-----------------------+-------------+\n",
      "only showing top 5 rows\n",
      "\n"
     ]
    }
   ],
   "source": [
    "training.show(5)"
   ]
  },
  {
   "cell_type": "code",
   "execution_count": 24,
   "metadata": {},
   "outputs": [],
   "source": [
    "training=training.withColumn('Training Date',to_date('Training Date','dd-MMM-yy'))"
   ]
  },
  {
   "cell_type": "code",
   "execution_count": 32,
   "metadata": {},
   "outputs": [
    {
     "name": "stdout",
     "output_type": "stream",
     "text": [
      "+----------------------+\n",
      "|Training Program Name |\n",
      "+----------------------+\n",
      "|Communication Skills  |\n",
      "|Leadership Development|\n",
      "|Technical Skills      |\n",
      "|Customer Service      |\n",
      "|Project Management    |\n",
      "+----------------------+\n",
      "\n"
     ]
    }
   ],
   "source": [
    "training.dropDuplicates(['Training Program Name']).select('Training Program Name').show(truncate=False)"
   ]
  },
  {
   "cell_type": "code",
   "execution_count": 34,
   "metadata": {},
   "outputs": [
    {
     "data": {
      "text/plain": [
       "2738"
      ]
     },
     "execution_count": 34,
     "metadata": {},
     "output_type": "execute_result"
    }
   ],
   "source": [
    "training.dropDuplicates(['Location']).select('Location').count()"
   ]
  },
  {
   "cell_type": "markdown",
   "metadata": {},
   "source": [
    "## Find the most frequent location trainings took place"
   ]
  },
  {
   "cell_type": "code",
   "execution_count": 46,
   "metadata": {},
   "outputs": [
    {
     "data": {
      "text/plain": [
       "Row(Location='Smithchester', cnt=6)"
      ]
     },
     "execution_count": 46,
     "metadata": {},
     "output_type": "execute_result"
    }
   ],
   "source": [
    "training.groupBy('Location').agg(count('*').alias('cnt')).filter(count('*')>1).orderBy(desc('cnt')).first()"
   ]
  },
  {
   "cell_type": "code",
   "execution_count": 67,
   "metadata": {},
   "outputs": [
    {
     "name": "stdout",
     "output_type": "stream",
     "text": [
      "+----------------+\n",
      "|Training Outcome|\n",
      "+----------------+\n",
      "|          Passed|\n",
      "|       Completed|\n",
      "|          Failed|\n",
      "|      Incomplete|\n",
      "+----------------+\n",
      "\n"
     ]
    }
   ],
   "source": [
    "training.dropDuplicates(['Training Outcome']).select('Training Outcome').show()"
   ]
  },
  {
   "cell_type": "markdown",
   "metadata": {},
   "source": [
    "## find total cost for each training program"
   ]
  },
  {
   "cell_type": "code",
   "execution_count": 55,
   "metadata": {},
   "outputs": [
    {
     "name": "stdout",
     "output_type": "stream",
     "text": [
      "+---------------------+------------------+\n",
      "|Training Program Name|sum(Training Cost)|\n",
      "+---------------------+------------------+\n",
      "| Communication Skills|365023.24000000017|\n",
      "|   Project Management|343313.16999999987|\n",
      "| Leadership Develo...| 323902.0300000001|\n",
      "|     Technical Skills|323072.61000000016|\n",
      "|     Customer Service| 320575.0399999999|\n",
      "+---------------------+------------------+\n",
      "\n"
     ]
    }
   ],
   "source": [
    "training.groupBy('Training Program Name').sum('Training Cost').orderBy(desc('sum(Training Cost)')).show()"
   ]
  },
  {
   "cell_type": "code",
   "execution_count": null,
   "metadata": {},
   "outputs": [],
   "source": [
    "training.dropDuplicates(['Trainer']).select('Trainer').count()"
   ]
  },
  {
   "cell_type": "markdown",
   "metadata": {},
   "source": [
    "## find name,dob,email, supervisor of employees who have successfully completed the each highest costing trainings programs."
   ]
  },
  {
   "cell_type": "code",
   "execution_count": 68,
   "metadata": {},
   "outputs": [
    {
     "name": "stdout",
     "output_type": "stream",
     "text": [
      "+-----+---------+--------+----------+----------------------------+----------------------+-------------+\n",
      "|EmpID|FirstName|LastName|DOB       |ADEmail                     |Training Program Name |Training Cost|\n",
      "+-----+---------+--------+----------+----------------------------+----------------------+-------------+\n",
      "|3503 |Geovanni |Pugh    |1951-07-27|geovanni.pugh@bilearner.com |Technical Skills      |996.35       |\n",
      "|1438 |Lucian   |Mora    |1977-12-16|lucian.mora@bilearner.com   |Customer Service      |996.18       |\n",
      "|1604 |Ansley   |Duke    |1976-10-19|ansley.duke@bilearner.com   |Communication Skills  |999.97       |\n",
      "|1665 |Tania    |Jennings|1963-07-10|tania.jennings@bilearner.com|Project Management    |999.83       |\n",
      "|2011 |Naomi    |Hardin  |1994-08-06|naomi.hardin@bilearner.com  |Leadership Development|999.96       |\n",
      "+-----+---------+--------+----------+----------------------------+----------------------+-------------+\n",
      "\n"
     ]
    }
   ],
   "source": [
    "temp=training.filter((training['Training Outcome']=='Completed') | (training['Training Outcome']=='Passed')).withColumn('rownum',row_number().over(Window.partitionBy('Training Program Name').orderBy(desc('Training Cost'))))\n",
    "temp=temp.filter(temp.rownum==1)\n",
    "temp.join(employee,on=temp['Employee ID']==employee['EmpID'])\\\n",
    "    .select('EmpID','FirstName','LastName','DOB','ADEmail','Training Program Name','Training Cost').show(truncate=False)"
   ]
  },
  {
   "cell_type": "markdown",
   "metadata": {},
   "source": [
    "## find after how many days each employee took their training after joining, what training they took and whats was the outcome"
   ]
  },
  {
   "cell_type": "code",
   "execution_count": 80,
   "metadata": {},
   "outputs": [
    {
     "name": "stdout",
     "output_type": "stream",
     "text": [
      "+-----+----------------+---------------------------+---------------------+----------------+\n",
      "|EmpID|            Name|Days after training occured|Training Program Name|Training Outcome|\n",
      "+-----+----------------+---------------------------+---------------------+----------------+\n",
      "| 1001|   Susan Exantus|                       1119|     Customer Service|          Failed|\n",
      "| 1002|   Sandra Martin|                        219| Leadership Develo...|          Failed|\n",
      "| 1003|Keyla Del Bosque|                        -12|     Technical Skills|      Incomplete|\n",
      "| 1004|    Andrew Szabo|                        958|     Customer Service|       Completed|\n",
      "| 1005|  Luke Patronick|                        238| Communication Skills|          Passed|\n",
      "| 1006|  Colby Andreola|                        631|   Project Management|          Failed|\n",
      "| 1007|     Edward TRUE|                        931| Leadership Develo...|          Failed|\n",
      "| 1008| Judith Carabbio|                       1435|     Technical Skills|      Incomplete|\n",
      "| 1009|     Adell Saada|                       1165|     Customer Service|      Incomplete|\n",
      "| 1010|   Kamari Hunter|                        584| Communication Skills|      Incomplete|\n",
      "| 1011|    Sarah Malone|                        272| Communication Skills|       Completed|\n",
      "| 1012|Skyler Blackwell|                        869|     Technical Skills|          Failed|\n",
      "| 1013|     Jasmin Shah|                       1060|   Project Management|      Incomplete|\n",
      "| 1014|      Kole Quinn|                         52|     Customer Service|      Incomplete|\n",
      "| 1015|  Ansley Jackson|                       1622| Leadership Develo...|          Passed|\n",
      "| 1016|     Jayda Reese|                       1164| Communication Skills|       Completed|\n",
      "| 1017|Julien Whitehead|                        798|     Technical Skills|          Passed|\n",
      "| 1018|     Alan Haynes|                       1009|   Project Management|      Incomplete|\n",
      "| 1019|  Kamryn Herrera|                         12|   Project Management|          Passed|\n",
      "| 1020|   Kelvin Foster|                       -172|     Technical Skills|          Passed|\n",
      "+-----+----------------+---------------------------+---------------------+----------------+\n",
      "only showing top 20 rows\n",
      "\n"
     ]
    }
   ],
   "source": [
    "temp=employee.select('EmpID',concat('FirstName',lit(' '),'LastName').alias('Name'),'StartDate')\\\n",
    "    .join(training,on=training['Employee ID']==employee['EmpID'])\n",
    "temp.select('EmpID','Name',\n",
    "            date_diff(training['Training Date'],employee.StartDate).alias('Days after training occured')\n",
    "            ,'Training Program Name','Training Outcome')\\\n",
    "    .orderBy('EmpID').show()"
   ]
  },
  {
   "cell_type": "markdown",
   "metadata": {},
   "source": [
    "## find how many days each employee worked/is working in the company"
   ]
  },
  {
   "cell_type": "code",
   "execution_count": 87,
   "metadata": {},
   "outputs": [
    {
     "name": "stdout",
     "output_type": "stream",
     "text": [
      "+-----+----------------+---------------------+--------------------+\n",
      "|EmpID|            Name|experience in company|      EmployeeStatus|\n",
      "+-----+----------------+---------------------+--------------------+\n",
      "| 1001|   Susan Exantus|                 1614|              Active|\n",
      "| 1002|   Sandra Martin|                  167|              Active|\n",
      "| 1003|Keyla Del Bosque|                    7|              Active|\n",
      "| 1004|    Andrew Szabo|                  280|              Active|\n",
      "| 1005|  Luke Patronick|                  500|              Active|\n",
      "| 1006|  Colby Andreola|                   97|              Active|\n",
      "| 1007|     Edward TRUE|                  336|Voluntarily Termi...|\n",
      "| 1008| Judith Carabbio|                  250|              Active|\n",
      "| 1009|     Adell Saada|                 1309|              Active|\n",
      "| 1010|   Kamari Hunter|                  430|Voluntarily Termi...|\n",
      "| 1011|    Sarah Malone|                  370|Voluntarily Termi...|\n",
      "| 1012|Skyler Blackwell|                  209|Voluntarily Termi...|\n",
      "| 1013|     Jasmin Shah|                 1356|              Active|\n",
      "| 1014|      Kole Quinn|                  194|              Active|\n",
      "| 1015|  Ansley Jackson|                 1883|              Active|\n",
      "| 1016|     Jayda Reese|                  463|              Active|\n",
      "| 1017|Julien Whitehead|                  464|              Active|\n",
      "| 1018|     Alan Haynes|                  537|              Active|\n",
      "| 1019|  Kamryn Herrera|                  287|Voluntarily Termi...|\n",
      "| 1020|   Kelvin Foster|                   28|Voluntarily Termi...|\n",
      "+-----+----------------+---------------------+--------------------+\n",
      "only showing top 20 rows\n",
      "\n"
     ]
    }
   ],
   "source": [
    "employee.select('EmpID',concat('FirstName',lit(' '),'LastName').alias('Name'),date_diff(ifnull('ExitDate',lit(now())),'StartDate')\\\n",
    "                        .alias('experience in company'),'EmployeeStatus')\\\n",
    "    .orderBy('EmpID').show()"
   ]
  },
  {
   "cell_type": "markdown",
   "metadata": {},
   "source": [
    "## how many employees are in PIP in each divisions and how many training were completed/passed for those"
   ]
  },
  {
   "cell_type": "code",
   "execution_count": 98,
   "metadata": {},
   "outputs": [
    {
     "name": "stdout",
     "output_type": "stream",
     "text": [
      "+--------------------+----------------------+------------------------+\n",
      "|            Division|Count of PIP employees|count of total trainings|\n",
      "+--------------------+----------------------+------------------------+\n",
      "|        Shop (Fleet)|                     3|                       0|\n",
      "|    Field Operations|                    26|                      16|\n",
      "|            Wireless|                     2|                       2|\n",
      "|            Splicing|                     3|                       1|\n",
      "|       General - Con|                    15|                       9|\n",
      "|Project Managemen...|                     1|                       0|\n",
      "|            Fielders|                     6|                       4|\n",
      "|         Underground|                     1|                       0|\n",
      "|           Executive|                     1|                       0|\n",
      "|                Catv|                     6|                       4|\n",
      "|Wireline Construc...|                     6|                       3|\n",
      "|Finance & Accounting|                     3|                       1|\n",
      "|Project Managemen...|                     6|                       6|\n",
      "|     Technology / It|                     1|                       0|\n",
      "|           Engineers|                     5|                       4|\n",
      "|       General - Sga|                     2|                       2|\n",
      "|       General - Eng|                     1|                       0|\n",
      "|              Aerial|                     5|                       1|\n",
      "+--------------------+----------------------+------------------------+\n",
      "\n"
     ]
    }
   ],
   "source": [
    "temp=training.select('Employee ID','Training Program Name','Training Date','Training Outcome')\\\n",
    "    .join(employee.filter(employee['Performance Score']=='PIP'),on=employee.EmpID==training['Employee ID'])\n",
    "temp.groupBy('Division').agg(count('EmpID').alias('Count of PIP employees'),\n",
    "                             sum(when(((training['Training Outcome']=='Completed') |(training['Training Outcome']=='Passed')),1).otherwise(0)\\\n",
    "                                 ).alias('count of total trainings')).show()"
   ]
  },
  {
   "cell_type": "code",
   "execution_count": null,
   "metadata": {},
   "outputs": [],
   "source": []
  }
 ],
 "metadata": {
  "kernelspec": {
   "display_name": "Python 3",
   "language": "python",
   "name": "python3"
  },
  "language_info": {
   "codemirror_mode": {
    "name": "ipython",
    "version": 3
   },
   "file_extension": ".py",
   "mimetype": "text/x-python",
   "name": "python",
   "nbconvert_exporter": "python",
   "pygments_lexer": "ipython3",
   "version": "3.11.7"
  }
 },
 "nbformat": 4,
 "nbformat_minor": 2
}
